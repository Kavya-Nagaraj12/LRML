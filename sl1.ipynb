{
  "nbformat": 4,
  "nbformat_minor": 0,
  "metadata": {
    "colab": {
      "name": "  sl1.ipynb",
      "provenance": [],
      "collapsed_sections": []
    },
    "kernelspec": {
      "name": "python3",
      "display_name": "Python 3"
    },
    "language_info": {
      "name": "python"
    }
  },
  "cells": [
    {
      "cell_type": "code",
      "metadata": {
        "id": "R9PMtgAyPycd"
      },
      "source": [
        "import numpy as np\n",
        "import pandas as pd\n",
        "import matplotlib.pyplot as plt\n",
        "import seaborn as sns\n",
        "from sklearn.model_selection import train_test_split\n",
        "from sklearn.preprocessing import StandardScaler\n",
        "from sklearn.linear_model import LinearRegression\n"
      ],
      "execution_count": 1,
      "outputs": []
    },
    {
      "cell_type": "code",
      "metadata": {
        "colab": {
          "base_uri": "https://localhost:8080/",
          "height": 362
        },
        "id": "FGltlYH8UK9e",
        "outputId": "8cf62fab-c7e4-4357-bb38-27bbb178214f"
      },
      "source": [
        "salary=pd.read_csv(\"/content/trainfile.csv\")\n",
        "salary.head()"
      ],
      "execution_count": 2,
      "outputs": [
        {
          "output_type": "execute_result",
          "data": {
            "text/html": [
              "<div>\n",
              "<style scoped>\n",
              "    .dataframe tbody tr th:only-of-type {\n",
              "        vertical-align: middle;\n",
              "    }\n",
              "\n",
              "    .dataframe tbody tr th {\n",
              "        vertical-align: top;\n",
              "    }\n",
              "\n",
              "    .dataframe thead th {\n",
              "        text-align: right;\n",
              "    }\n",
              "</style>\n",
              "<table border=\"1\" class=\"dataframe\">\n",
              "  <thead>\n",
              "    <tr style=\"text-align: right;\">\n",
              "      <th></th>\n",
              "      <th>Name</th>\n",
              "      <th>JobTitle</th>\n",
              "      <th>AgencyID</th>\n",
              "      <th>Agency</th>\n",
              "      <th>HireDate</th>\n",
              "      <th>AnnualSalary</th>\n",
              "      <th>GrossPay</th>\n",
              "    </tr>\n",
              "  </thead>\n",
              "  <tbody>\n",
              "    <tr>\n",
              "      <th>0</th>\n",
              "      <td>Aaron,Keontae E</td>\n",
              "      <td>AIDE BLUE CHIP</td>\n",
              "      <td>W02200</td>\n",
              "      <td>Youth Summer</td>\n",
              "      <td>06/10/2013</td>\n",
              "      <td>$11310.00</td>\n",
              "      <td>$873.63</td>\n",
              "    </tr>\n",
              "    <tr>\n",
              "      <th>1</th>\n",
              "      <td>Aaron,Patricia G</td>\n",
              "      <td>Facilities/Office Services II</td>\n",
              "      <td>A03031</td>\n",
              "      <td>OED-Employment Dev</td>\n",
              "      <td>10/24/1979</td>\n",
              "      <td>$53428.00</td>\n",
              "      <td>$52868.38</td>\n",
              "    </tr>\n",
              "    <tr>\n",
              "      <th>2</th>\n",
              "      <td>Aaron,Petra L</td>\n",
              "      <td>ASSISTANT STATE'S ATTORNEY</td>\n",
              "      <td>A29005</td>\n",
              "      <td>States Attorneys Office</td>\n",
              "      <td>09/25/2006</td>\n",
              "      <td>$68300.00</td>\n",
              "      <td>$67439.19</td>\n",
              "    </tr>\n",
              "    <tr>\n",
              "      <th>3</th>\n",
              "      <td>Abaineh,Yohannes T</td>\n",
              "      <td>EPIDEMIOLOGIST</td>\n",
              "      <td>A65026</td>\n",
              "      <td>HLTH-Health Department</td>\n",
              "      <td>07/23/2009</td>\n",
              "      <td>$62000.00</td>\n",
              "      <td>$58654.74</td>\n",
              "    </tr>\n",
              "    <tr>\n",
              "      <th>4</th>\n",
              "      <td>Abbene,Anthony M</td>\n",
              "      <td>POLICE OFFICER TRAINEE</td>\n",
              "      <td>A99416</td>\n",
              "      <td>Police Department</td>\n",
              "      <td>07/24/2013</td>\n",
              "      <td>$43999.00</td>\n",
              "      <td>$39686.95</td>\n",
              "    </tr>\n",
              "  </tbody>\n",
              "</table>\n",
              "</div>"
            ],
            "text/plain": [
              "                 Name                       JobTitle  ... AnnualSalary   GrossPay\n",
              "0     Aaron,Keontae E                 AIDE BLUE CHIP  ...    $11310.00    $873.63\n",
              "1    Aaron,Patricia G  Facilities/Office Services II  ...    $53428.00  $52868.38\n",
              "2       Aaron,Petra L     ASSISTANT STATE'S ATTORNEY  ...    $68300.00  $67439.19\n",
              "3  Abaineh,Yohannes T                 EPIDEMIOLOGIST  ...    $62000.00  $58654.74\n",
              "4    Abbene,Anthony M         POLICE OFFICER TRAINEE  ...    $43999.00  $39686.95\n",
              "\n",
              "[5 rows x 7 columns]"
            ]
          },
          "metadata": {},
          "execution_count": 2
        }
      ]
    },
    {
      "cell_type": "code",
      "metadata": {
        "colab": {
          "base_uri": "https://localhost:8080/"
        },
        "id": "M6u19uOuQD8N",
        "outputId": "51b394d2-743b-4fb5-b643-732b37f3b61a"
      },
      "source": [
        "salary.info()#null values more in grosspay"
      ],
      "execution_count": 3,
      "outputs": [
        {
          "output_type": "stream",
          "name": "stdout",
          "text": [
            "<class 'pandas.core.frame.DataFrame'>\n",
            "RangeIndex: 18981 entries, 0 to 18980\n",
            "Data columns (total 7 columns):\n",
            " #   Column        Non-Null Count  Dtype \n",
            "---  ------        --------------  ----- \n",
            " 0    Name         18981 non-null  object\n",
            " 1   JobTitle      18981 non-null  object\n",
            " 2   AgencyID      18981 non-null  object\n",
            " 3   Agency        18981 non-null  object\n",
            " 4   HireDate      18911 non-null  object\n",
            " 5   AnnualSalary  18981 non-null  object\n",
            " 6   GrossPay      15758 non-null  object\n",
            "dtypes: object(7)\n",
            "memory usage: 1.0+ MB\n"
          ]
        }
      ]
    },
    {
      "cell_type": "code",
      "metadata": {
        "colab": {
          "base_uri": "https://localhost:8080/"
        },
        "id": "Mte_q67-XhjF",
        "outputId": "24541059-7d74-46f5-96ff-98bcc8cb71d1"
      },
      "source": [
        "salary_cpy=salary.copy()\n",
        "salary_cpy.columns"
      ],
      "execution_count": 4,
      "outputs": [
        {
          "output_type": "execute_result",
          "data": {
            "text/plain": [
              "Index([' Name', 'JobTitle', 'AgencyID', 'Agency', 'HireDate', 'AnnualSalary',\n",
              "       'GrossPay'],\n",
              "      dtype='object')"
            ]
          },
          "metadata": {},
          "execution_count": 4
        }
      ]
    },
    {
      "cell_type": "code",
      "metadata": {
        "colab": {
          "base_uri": "https://localhost:8080/"
        },
        "id": "C96ssx8wZB-Q",
        "outputId": "2d9b5686-10db-4f84-bc1d-8b81431d735c"
      },
      "source": [
        "salary_cpy.columns=salary_cpy.columns.str.strip()\n",
        "salary_cpy.columns"
      ],
      "execution_count": 5,
      "outputs": [
        {
          "output_type": "execute_result",
          "data": {
            "text/plain": [
              "Index(['Name', 'JobTitle', 'AgencyID', 'Agency', 'HireDate', 'AnnualSalary',\n",
              "       'GrossPay'],\n",
              "      dtype='object')"
            ]
          },
          "metadata": {},
          "execution_count": 5
        }
      ]
    },
    {
      "cell_type": "code",
      "metadata": {
        "colab": {
          "base_uri": "https://localhost:8080/"
        },
        "id": "CLDWn-UuaSio",
        "outputId": "84dd2ffb-dcb7-4c4c-bcd2-b9fede87222a"
      },
      "source": [
        "salary_cpy.isnull().sum()"
      ],
      "execution_count": 6,
      "outputs": [
        {
          "output_type": "execute_result",
          "data": {
            "text/plain": [
              "Name               0\n",
              "JobTitle           0\n",
              "AgencyID           0\n",
              "Agency             0\n",
              "HireDate          70\n",
              "AnnualSalary       0\n",
              "GrossPay        3223\n",
              "dtype: int64"
            ]
          },
          "metadata": {},
          "execution_count": 6
        }
      ]
    },
    {
      "cell_type": "code",
      "metadata": {
        "colab": {
          "base_uri": "https://localhost:8080/"
        },
        "id": "DfwaMTXFay1o",
        "outputId": "41d1a49d-47e9-492f-d54a-aa05c807531d"
      },
      "source": [
        "salary_cpy=salary_cpy.dropna(subset=['HireDate'])\n",
        "salary_cpy.isnull().sum()"
      ],
      "execution_count": 7,
      "outputs": [
        {
          "output_type": "execute_result",
          "data": {
            "text/plain": [
              "Name               0\n",
              "JobTitle           0\n",
              "AgencyID           0\n",
              "Agency             0\n",
              "HireDate           0\n",
              "AnnualSalary       0\n",
              "GrossPay        3223\n",
              "dtype: int64"
            ]
          },
          "metadata": {},
          "execution_count": 7
        }
      ]
    },
    {
      "cell_type": "code",
      "metadata": {
        "colab": {
          "base_uri": "https://localhost:8080/"
        },
        "id": "yBsqCX5KdWkC",
        "outputId": "3c1c48ec-3b6d-48ac-d8db-80d7365dda08"
      },
      "source": [
        "salary_cpy=salary_cpy.drop('GrossPay',axis=1)\n",
        "salary_cpy.isnull().sum()"
      ],
      "execution_count": 8,
      "outputs": [
        {
          "output_type": "execute_result",
          "data": {
            "text/plain": [
              "Name            0\n",
              "JobTitle        0\n",
              "AgencyID        0\n",
              "Agency          0\n",
              "HireDate        0\n",
              "AnnualSalary    0\n",
              "dtype: int64"
            ]
          },
          "metadata": {},
          "execution_count": 8
        }
      ]
    },
    {
      "cell_type": "code",
      "metadata": {
        "colab": {
          "base_uri": "https://localhost:8080/"
        },
        "id": "kJ8JKazFdn3z",
        "outputId": "d2e241e1-d304-451d-94f6-d44853238190"
      },
      "source": [
        "salary_cpy.AgencyID.value_counts()"
      ],
      "execution_count": 9,
      "outputs": [
        {
          "output_type": "execute_result",
          "data": {
            "text/plain": [
              "P04001    316\n",
              "C90786    276\n",
              "W02629    193\n",
              "P04002    191\n",
              "A99416    166\n",
              "         ... \n",
              "W02669      1\n",
              "W02661      1\n",
              "W02666      1\n",
              "W02534      1\n",
              "W02502      1\n",
              "Name: AgencyID, Length: 1177, dtype: int64"
            ]
          },
          "metadata": {},
          "execution_count": 9
        }
      ]
    },
    {
      "cell_type": "code",
      "metadata": {
        "colab": {
          "base_uri": "https://localhost:8080/"
        },
        "id": "MbiqXTgwuaV9",
        "outputId": "c9c95ae6-331f-4364-8ea6-84cc9b32dc9c"
      },
      "source": [
        "salary_cpy.Agency.value_counts()"
      ],
      "execution_count": 10,
      "outputs": [
        {
          "output_type": "execute_result",
          "data": {
            "text/plain": [
              "Youth Summer                4323\n",
              "Police Department           3141\n",
              "Fire Department             1576\n",
              "DPW-Water & Waste Water     1491\n",
              "HLTH-Health Department       833\n",
              "                            ... \n",
              "HLTH-Health Dept Locatio       6\n",
              "Council Services               6\n",
              "Legislative Reference          5\n",
              "M-R Cable & Comm               4\n",
              "Special City Services          4\n",
              "Name: Agency, Length: 65, dtype: int64"
            ]
          },
          "metadata": {},
          "execution_count": 10
        }
      ]
    },
    {
      "cell_type": "code",
      "metadata": {
        "colab": {
          "base_uri": "https://localhost:8080/"
        },
        "id": "SoQed2Wtuh24",
        "outputId": "b2828a2c-ef9b-4fa7-8b20-a34394026eef"
      },
      "source": [
        "salary_cpy.JobTitle.value_counts()"
      ],
      "execution_count": 11,
      "outputs": [
        {
          "output_type": "execute_result",
          "data": {
            "text/plain": [
              "AIDE BLUE CHIP                   4817\n",
              "POLICE OFFICER                   1866\n",
              "LABORER (Hourly)                  597\n",
              "EMT Firefighter Suppression       358\n",
              "CROSSING GUARD                    337\n",
              "                                 ... \n",
              "Forestry Technician                 1\n",
              "LACTATION TECHNICIAN                1\n",
              "EVENTS MANAGER                      1\n",
              "PUBLIC INFORMATION OFFICER II       1\n",
              "DIRECTOR HUMAN RESOURCES            1\n",
              "Name: JobTitle, Length: 1073, dtype: int64"
            ]
          },
          "metadata": {},
          "execution_count": 11
        }
      ]
    },
    {
      "cell_type": "code",
      "metadata": {
        "colab": {
          "base_uri": "https://localhost:8080/"
        },
        "id": "qSqOyp2uvgIN",
        "outputId": "f8e7d721-eb80-4889-a009-16ddc489bb75"
      },
      "source": [
        "salary_cpy.HireDate.value_counts()"
      ],
      "execution_count": 12,
      "outputs": [
        {
          "output_type": "execute_result",
          "data": {
            "text/plain": [
              "05/21/2014    1478\n",
              "06/10/2013     696\n",
              "06/12/2012     541\n",
              "06/07/2011     368\n",
              "05/29/2014     347\n",
              "              ... \n",
              "07/25/1983       1\n",
              "04/24/2000       1\n",
              "03/28/1983       1\n",
              "09/07/1984       1\n",
              "09/14/2010       1\n",
              "Name: HireDate, Length: 4737, dtype: int64"
            ]
          },
          "metadata": {},
          "execution_count": 12
        }
      ]
    },
    {
      "cell_type": "code",
      "metadata": {
        "id": "VGUScMEfvub2"
      },
      "source": [
        "salary_cpy['AnnualSalary']=salary_cpy['AnnualSalary'].apply(lambda x:(float)(str(x)[1:]))"
      ],
      "execution_count": 13,
      "outputs": []
    },
    {
      "cell_type": "code",
      "metadata": {
        "colab": {
          "base_uri": "https://localhost:8080/"
        },
        "id": "_UpZcpo_yMQW",
        "outputId": "bd75a900-fb8a-47d3-aaac-4ecda6f67754"
      },
      "source": [
        "salary_cpy.AnnualSalary.value_counts()"
      ],
      "execution_count": 14,
      "outputs": [
        {
          "output_type": "execute_result",
          "data": {
            "text/plain": [
              "11310.0    4811\n",
              "20800.0     325\n",
              "29245.0     196\n",
              "43999.0     169\n",
              "44773.0     162\n",
              "           ... \n",
              "35509.0       1\n",
              "25945.0       1\n",
              "51889.0       1\n",
              "39600.0       1\n",
              "86400.0       1\n",
              "Name: AnnualSalary, Length: 1590, dtype: int64"
            ]
          },
          "metadata": {},
          "execution_count": 14
        }
      ]
    },
    {
      "cell_type": "code",
      "metadata": {
        "id": "XnZhRvFByS0F"
      },
      "source": [
        "salary_cpy['HireDay']=salary_cpy['HireDate'].apply(lambda x:(int)(str(x[3:5])))\n",
        "salary_cpy['HireMonth']=salary_cpy['HireDate'].apply(lambda x:(int)(str(x[0:2])))\n",
        "salary_cpy['HireYear']=salary_cpy['HireDate'].apply(lambda x:(int)(str(x[6:])))"
      ],
      "execution_count": 15,
      "outputs": []
    },
    {
      "cell_type": "code",
      "metadata": {
        "colab": {
          "base_uri": "https://localhost:8080/",
          "height": 362
        },
        "id": "zXSkDqlc1Mfb",
        "outputId": "fb794aa4-bb5b-490b-fb70-41216823693e"
      },
      "source": [
        "salary_cpy.head()"
      ],
      "execution_count": 16,
      "outputs": [
        {
          "output_type": "execute_result",
          "data": {
            "text/html": [
              "<div>\n",
              "<style scoped>\n",
              "    .dataframe tbody tr th:only-of-type {\n",
              "        vertical-align: middle;\n",
              "    }\n",
              "\n",
              "    .dataframe tbody tr th {\n",
              "        vertical-align: top;\n",
              "    }\n",
              "\n",
              "    .dataframe thead th {\n",
              "        text-align: right;\n",
              "    }\n",
              "</style>\n",
              "<table border=\"1\" class=\"dataframe\">\n",
              "  <thead>\n",
              "    <tr style=\"text-align: right;\">\n",
              "      <th></th>\n",
              "      <th>Name</th>\n",
              "      <th>JobTitle</th>\n",
              "      <th>AgencyID</th>\n",
              "      <th>Agency</th>\n",
              "      <th>HireDate</th>\n",
              "      <th>AnnualSalary</th>\n",
              "      <th>HireDay</th>\n",
              "      <th>HireMonth</th>\n",
              "      <th>HireYear</th>\n",
              "    </tr>\n",
              "  </thead>\n",
              "  <tbody>\n",
              "    <tr>\n",
              "      <th>0</th>\n",
              "      <td>Aaron,Keontae E</td>\n",
              "      <td>AIDE BLUE CHIP</td>\n",
              "      <td>W02200</td>\n",
              "      <td>Youth Summer</td>\n",
              "      <td>06/10/2013</td>\n",
              "      <td>11310.0</td>\n",
              "      <td>10</td>\n",
              "      <td>6</td>\n",
              "      <td>2013</td>\n",
              "    </tr>\n",
              "    <tr>\n",
              "      <th>1</th>\n",
              "      <td>Aaron,Patricia G</td>\n",
              "      <td>Facilities/Office Services II</td>\n",
              "      <td>A03031</td>\n",
              "      <td>OED-Employment Dev</td>\n",
              "      <td>10/24/1979</td>\n",
              "      <td>53428.0</td>\n",
              "      <td>24</td>\n",
              "      <td>10</td>\n",
              "      <td>1979</td>\n",
              "    </tr>\n",
              "    <tr>\n",
              "      <th>2</th>\n",
              "      <td>Aaron,Petra L</td>\n",
              "      <td>ASSISTANT STATE'S ATTORNEY</td>\n",
              "      <td>A29005</td>\n",
              "      <td>States Attorneys Office</td>\n",
              "      <td>09/25/2006</td>\n",
              "      <td>68300.0</td>\n",
              "      <td>25</td>\n",
              "      <td>9</td>\n",
              "      <td>2006</td>\n",
              "    </tr>\n",
              "    <tr>\n",
              "      <th>3</th>\n",
              "      <td>Abaineh,Yohannes T</td>\n",
              "      <td>EPIDEMIOLOGIST</td>\n",
              "      <td>A65026</td>\n",
              "      <td>HLTH-Health Department</td>\n",
              "      <td>07/23/2009</td>\n",
              "      <td>62000.0</td>\n",
              "      <td>23</td>\n",
              "      <td>7</td>\n",
              "      <td>2009</td>\n",
              "    </tr>\n",
              "    <tr>\n",
              "      <th>4</th>\n",
              "      <td>Abbene,Anthony M</td>\n",
              "      <td>POLICE OFFICER TRAINEE</td>\n",
              "      <td>A99416</td>\n",
              "      <td>Police Department</td>\n",
              "      <td>07/24/2013</td>\n",
              "      <td>43999.0</td>\n",
              "      <td>24</td>\n",
              "      <td>7</td>\n",
              "      <td>2013</td>\n",
              "    </tr>\n",
              "  </tbody>\n",
              "</table>\n",
              "</div>"
            ],
            "text/plain": [
              "                 Name                       JobTitle  ... HireMonth HireYear\n",
              "0     Aaron,Keontae E                 AIDE BLUE CHIP  ...         6     2013\n",
              "1    Aaron,Patricia G  Facilities/Office Services II  ...        10     1979\n",
              "2       Aaron,Petra L     ASSISTANT STATE'S ATTORNEY  ...         9     2006\n",
              "3  Abaineh,Yohannes T                 EPIDEMIOLOGIST  ...         7     2009\n",
              "4    Abbene,Anthony M         POLICE OFFICER TRAINEE  ...         7     2013\n",
              "\n",
              "[5 rows x 9 columns]"
            ]
          },
          "metadata": {},
          "execution_count": 16
        }
      ]
    },
    {
      "cell_type": "code",
      "metadata": {
        "id": "o0cWOij01EO5"
      },
      "source": [
        "salary_cpy['JobTitle']=  salary_cpy['JobTitle'].apply(lambda x: str(x).strip().replace(\"  \",\" \")) \n",
        "salary_cpy['AgencyID']=  salary_cpy['AgencyID'].apply(lambda x: str(x).strip().replace(\"  \",\" \")) \n",
        "salary_cpy['Agency']=  salary_cpy['Agency'].apply(lambda x: str(x).strip().replace(\"  \",\" \"))                                          \n"
      ],
      "execution_count": 17,
      "outputs": []
    },
    {
      "cell_type": "code",
      "metadata": {
        "id": "HFcdrDt93tB2",
        "colab": {
          "base_uri": "https://localhost:8080/",
          "height": 362
        },
        "outputId": "d7ad2f4e-a989-48aa-af03-78d7a8576841"
      },
      "source": [
        "salary_cpy.head()"
      ],
      "execution_count": 18,
      "outputs": [
        {
          "output_type": "execute_result",
          "data": {
            "text/html": [
              "<div>\n",
              "<style scoped>\n",
              "    .dataframe tbody tr th:only-of-type {\n",
              "        vertical-align: middle;\n",
              "    }\n",
              "\n",
              "    .dataframe tbody tr th {\n",
              "        vertical-align: top;\n",
              "    }\n",
              "\n",
              "    .dataframe thead th {\n",
              "        text-align: right;\n",
              "    }\n",
              "</style>\n",
              "<table border=\"1\" class=\"dataframe\">\n",
              "  <thead>\n",
              "    <tr style=\"text-align: right;\">\n",
              "      <th></th>\n",
              "      <th>Name</th>\n",
              "      <th>JobTitle</th>\n",
              "      <th>AgencyID</th>\n",
              "      <th>Agency</th>\n",
              "      <th>HireDate</th>\n",
              "      <th>AnnualSalary</th>\n",
              "      <th>HireDay</th>\n",
              "      <th>HireMonth</th>\n",
              "      <th>HireYear</th>\n",
              "    </tr>\n",
              "  </thead>\n",
              "  <tbody>\n",
              "    <tr>\n",
              "      <th>0</th>\n",
              "      <td>Aaron,Keontae E</td>\n",
              "      <td>AIDE BLUE CHIP</td>\n",
              "      <td>W02200</td>\n",
              "      <td>Youth Summer</td>\n",
              "      <td>06/10/2013</td>\n",
              "      <td>11310.0</td>\n",
              "      <td>10</td>\n",
              "      <td>6</td>\n",
              "      <td>2013</td>\n",
              "    </tr>\n",
              "    <tr>\n",
              "      <th>1</th>\n",
              "      <td>Aaron,Patricia G</td>\n",
              "      <td>Facilities/Office Services II</td>\n",
              "      <td>A03031</td>\n",
              "      <td>OED-Employment Dev</td>\n",
              "      <td>10/24/1979</td>\n",
              "      <td>53428.0</td>\n",
              "      <td>24</td>\n",
              "      <td>10</td>\n",
              "      <td>1979</td>\n",
              "    </tr>\n",
              "    <tr>\n",
              "      <th>2</th>\n",
              "      <td>Aaron,Petra L</td>\n",
              "      <td>ASSISTANT STATE'S ATTORNEY</td>\n",
              "      <td>A29005</td>\n",
              "      <td>States Attorneys Office</td>\n",
              "      <td>09/25/2006</td>\n",
              "      <td>68300.0</td>\n",
              "      <td>25</td>\n",
              "      <td>9</td>\n",
              "      <td>2006</td>\n",
              "    </tr>\n",
              "    <tr>\n",
              "      <th>3</th>\n",
              "      <td>Abaineh,Yohannes T</td>\n",
              "      <td>EPIDEMIOLOGIST</td>\n",
              "      <td>A65026</td>\n",
              "      <td>HLTH-Health Department</td>\n",
              "      <td>07/23/2009</td>\n",
              "      <td>62000.0</td>\n",
              "      <td>23</td>\n",
              "      <td>7</td>\n",
              "      <td>2009</td>\n",
              "    </tr>\n",
              "    <tr>\n",
              "      <th>4</th>\n",
              "      <td>Abbene,Anthony M</td>\n",
              "      <td>POLICE OFFICER TRAINEE</td>\n",
              "      <td>A99416</td>\n",
              "      <td>Police Department</td>\n",
              "      <td>07/24/2013</td>\n",
              "      <td>43999.0</td>\n",
              "      <td>24</td>\n",
              "      <td>7</td>\n",
              "      <td>2013</td>\n",
              "    </tr>\n",
              "  </tbody>\n",
              "</table>\n",
              "</div>"
            ],
            "text/plain": [
              "                 Name                       JobTitle  ... HireMonth HireYear\n",
              "0     Aaron,Keontae E                 AIDE BLUE CHIP  ...         6     2013\n",
              "1    Aaron,Patricia G  Facilities/Office Services II  ...        10     1979\n",
              "2       Aaron,Petra L     ASSISTANT STATE'S ATTORNEY  ...         9     2006\n",
              "3  Abaineh,Yohannes T                 EPIDEMIOLOGIST  ...         7     2009\n",
              "4    Abbene,Anthony M         POLICE OFFICER TRAINEE  ...         7     2013\n",
              "\n",
              "[5 rows x 9 columns]"
            ]
          },
          "metadata": {},
          "execution_count": 18
        }
      ]
    },
    {
      "cell_type": "code",
      "metadata": {
        "id": "Ounh1S7U1B0W"
      },
      "source": [
        "salary_cpy['JobTitle']=salary_cpy['JobTitle'].apply(lambda x:str(x).upper())\n",
        "salary_cpy['AgencyID']=salary_cpy['AgencyID'].apply(lambda x:str(x).upper())\n",
        "salary_cpy['Agency']=salary_cpy['Agency'].apply(lambda x:str(x).upper())"
      ],
      "execution_count": 19,
      "outputs": []
    },
    {
      "cell_type": "code",
      "metadata": {
        "id": "DFlS3L5V01n9",
        "colab": {
          "base_uri": "https://localhost:8080/",
          "height": 345
        },
        "outputId": "bc04e8f7-6087-4f37-9744-bb9a6d92472f"
      },
      "source": [
        "salary_cpy.head()"
      ],
      "execution_count": 20,
      "outputs": [
        {
          "output_type": "execute_result",
          "data": {
            "text/html": [
              "<div>\n",
              "<style scoped>\n",
              "    .dataframe tbody tr th:only-of-type {\n",
              "        vertical-align: middle;\n",
              "    }\n",
              "\n",
              "    .dataframe tbody tr th {\n",
              "        vertical-align: top;\n",
              "    }\n",
              "\n",
              "    .dataframe thead th {\n",
              "        text-align: right;\n",
              "    }\n",
              "</style>\n",
              "<table border=\"1\" class=\"dataframe\">\n",
              "  <thead>\n",
              "    <tr style=\"text-align: right;\">\n",
              "      <th></th>\n",
              "      <th>Name</th>\n",
              "      <th>JobTitle</th>\n",
              "      <th>AgencyID</th>\n",
              "      <th>Agency</th>\n",
              "      <th>HireDate</th>\n",
              "      <th>AnnualSalary</th>\n",
              "      <th>HireDay</th>\n",
              "      <th>HireMonth</th>\n",
              "      <th>HireYear</th>\n",
              "    </tr>\n",
              "  </thead>\n",
              "  <tbody>\n",
              "    <tr>\n",
              "      <th>0</th>\n",
              "      <td>Aaron,Keontae E</td>\n",
              "      <td>AIDE BLUE CHIP</td>\n",
              "      <td>W02200</td>\n",
              "      <td>YOUTH SUMMER</td>\n",
              "      <td>06/10/2013</td>\n",
              "      <td>11310.0</td>\n",
              "      <td>10</td>\n",
              "      <td>6</td>\n",
              "      <td>2013</td>\n",
              "    </tr>\n",
              "    <tr>\n",
              "      <th>1</th>\n",
              "      <td>Aaron,Patricia G</td>\n",
              "      <td>FACILITIES/OFFICE SERVICES II</td>\n",
              "      <td>A03031</td>\n",
              "      <td>OED-EMPLOYMENT DEV</td>\n",
              "      <td>10/24/1979</td>\n",
              "      <td>53428.0</td>\n",
              "      <td>24</td>\n",
              "      <td>10</td>\n",
              "      <td>1979</td>\n",
              "    </tr>\n",
              "    <tr>\n",
              "      <th>2</th>\n",
              "      <td>Aaron,Petra L</td>\n",
              "      <td>ASSISTANT STATE'S ATTORNEY</td>\n",
              "      <td>A29005</td>\n",
              "      <td>STATES ATTORNEYS OFFICE</td>\n",
              "      <td>09/25/2006</td>\n",
              "      <td>68300.0</td>\n",
              "      <td>25</td>\n",
              "      <td>9</td>\n",
              "      <td>2006</td>\n",
              "    </tr>\n",
              "    <tr>\n",
              "      <th>3</th>\n",
              "      <td>Abaineh,Yohannes T</td>\n",
              "      <td>EPIDEMIOLOGIST</td>\n",
              "      <td>A65026</td>\n",
              "      <td>HLTH-HEALTH DEPARTMENT</td>\n",
              "      <td>07/23/2009</td>\n",
              "      <td>62000.0</td>\n",
              "      <td>23</td>\n",
              "      <td>7</td>\n",
              "      <td>2009</td>\n",
              "    </tr>\n",
              "    <tr>\n",
              "      <th>4</th>\n",
              "      <td>Abbene,Anthony M</td>\n",
              "      <td>POLICE OFFICER TRAINEE</td>\n",
              "      <td>A99416</td>\n",
              "      <td>POLICE DEPARTMENT</td>\n",
              "      <td>07/24/2013</td>\n",
              "      <td>43999.0</td>\n",
              "      <td>24</td>\n",
              "      <td>7</td>\n",
              "      <td>2013</td>\n",
              "    </tr>\n",
              "  </tbody>\n",
              "</table>\n",
              "</div>"
            ],
            "text/plain": [
              "                 Name                       JobTitle  ... HireMonth HireYear\n",
              "0     Aaron,Keontae E                 AIDE BLUE CHIP  ...         6     2013\n",
              "1    Aaron,Patricia G  FACILITIES/OFFICE SERVICES II  ...        10     1979\n",
              "2       Aaron,Petra L     ASSISTANT STATE'S ATTORNEY  ...         9     2006\n",
              "3  Abaineh,Yohannes T                 EPIDEMIOLOGIST  ...         7     2009\n",
              "4    Abbene,Anthony M         POLICE OFFICER TRAINEE  ...         7     2013\n",
              "\n",
              "[5 rows x 9 columns]"
            ]
          },
          "metadata": {},
          "execution_count": 20
        }
      ]
    },
    {
      "cell_type": "code",
      "metadata": {
        "colab": {
          "base_uri": "https://localhost:8080/",
          "height": 269
        },
        "id": "zDHe-PuQjlzx",
        "outputId": "bca33d8d-b9dc-44e1-869a-976d51093b2d"
      },
      "source": [
        "salary_cpy.AnnualSalary.plot.box()\n",
        "plt.show()"
      ],
      "execution_count": 21,
      "outputs": [
        {
          "output_type": "display_data",
          "data": {
            "image/png": "[encoded data removed]",
            "text/plain": [
              "<Figure size 432x288 with 1 Axes>"
            ]
          },
          "metadata": {
            "needs_background": "light"
          }
        }
      ]
    },
    {
      "cell_type": "code",
      "metadata": {
        "id": "Mo6-_0wEj6Yk"
      },
      "source": [
        "salary_cpy=salary_cpy[salary_cpy['AnnualSalary']<140000]"
      ],
      "execution_count": 22,
      "outputs": []
    },
    {
      "cell_type": "code",
      "metadata": {
        "colab": {
          "base_uri": "https://localhost:8080/"
        },
        "id": "5MD0kBGFoNkn",
        "outputId": "d1190ad3-b11c-49ea-9249-97cf6ef20eec"
      },
      "source": [
        "salary_cpy.shape"
      ],
      "execution_count": 23,
      "outputs": [
        {
          "output_type": "execute_result",
          "data": {
            "text/plain": [
              "(18885, 9)"
            ]
          },
          "metadata": {},
          "execution_count": 23
        }
      ]
    },
    {
      "cell_type": "code",
      "metadata": {
        "colab": {
          "base_uri": "https://localhost:8080/",
          "height": 265
        },
        "id": "WRHU2XkPoUuN",
        "outputId": "7c9bd750-ae62-45fd-c6c2-9f62dfc6d814"
      },
      "source": [
        "salary_cpy.AnnualSalary.plot.box()\n",
        "plt.show()"
      ],
      "execution_count": 24,
      "outputs": [
        {
          "output_type": "display_data",
          "data": {
            "image/png": "[encoded data removed]",
            "text/plain": [
              "<Figure size 432x288 with 1 Axes>"
            ]
          },
          "metadata": {
            "needs_background": "light"
          }
        }
      ]
    },
    {
      "cell_type": "code",
      "metadata": {
        "colab": {
          "base_uri": "https://localhost:8080/",
          "height": 387
        },
        "id": "er29efB-q3ts",
        "outputId": "d6a6deb5-6197-4da7-b69e-103e9dc75de2"
      },
      "source": [
        "sns.displot(salary_cpy.AnnualSalary)\n",
        "plt.title(\"Annual Salary distribution\",fontsize=15)\n",
        "plt.show()"
      ],
      "execution_count": 25,
      "outputs": [
        {
          "output_type": "display_data",
          "data": {
            "image/png": "[encoded data removed]",
            "text/plain": [
              "<Figure size 360x360 with 1 Axes>"
            ]
          },
          "metadata": {
            "needs_background": "light"
          }
        }
      ]
    },
    {
      "cell_type": "code",
      "metadata": {
        "colab": {
          "base_uri": "https://localhost:8080/",
          "height": 501
        },
        "id": "D5a2Bhu_t-uv",
        "outputId": "1855d037-7587-4b94-c6b1-700c141c8e86"
      },
      "source": [
        "plt.figure(figsize=(10,5))\n",
        "salary_cpy.groupby([\"JobTitle\"])['Name'].count().sort_values(ascending=False).head(10).plot.bar()\n",
        "plt.ylabel(\"no of people hired\")\n",
        "plt.title('top 10 jobs where hirinng is most')\n",
        "plt.show()"
      ],
      "execution_count": 26,
      "outputs": [
        {
          "output_type": "display_data",
          "data": {
            "image/png": "[encoded data removed]",
            "text/plain": [
              "<Figure size 720x360 with 1 Axes>"
            ]
          },
          "metadata": {
            "needs_background": "light"
          }
        }
      ]
    },
    {
      "cell_type": "code",
      "metadata": {
        "colab": {
          "base_uri": "https://localhost:8080/",
          "height": 491
        },
        "id": "o7MkDLAey63T",
        "outputId": "633efc8f-ca6f-4c23-e02b-a501b0019780"
      },
      "source": [
        "plt.figure(figsize=(10,5))\n",
        "salary_cpy.groupby([\"JobTitle\"])['AnnualSalary'].mean().sort_values(ascending=False).head(10).plot.bar()\n",
        "plt.ylabel(\"no of people hired\")\n",
        "plt.title('top 10 jobs where hirinng is most')\n",
        "plt.show()"
      ],
      "execution_count": 27,
      "outputs": [
        {
          "output_type": "display_data",
          "data": {
            "image/png": "[encoded data removed]",
            "text/plain": [
              "<Figure size 720x360 with 1 Axes>"
            ]
          },
          "metadata": {
            "needs_background": "light"
          }
        }
      ]
    },
    {
      "cell_type": "code",
      "metadata": {
        "colab": {
          "base_uri": "https://localhost:8080/"
        },
        "id": "n3y4xLDVTG9U",
        "outputId": "15031129-9c0d-47ac-cb02-f49f42ec6161"
      },
      "source": [
        "mean_sal=salary_cpy.AnnualSalary.mean()\n",
        "good_paying_jobs=salary_cpy.groupby(['JobTitle'])['AnnualSalary'].mean().reset_index()\n",
        "good_paying_jobs[good_paying_jobs.AnnualSalary>mean_sal]['JobTitle'].count()"
      ],
      "execution_count": 28,
      "outputs": [
        {
          "output_type": "execute_result",
          "data": {
            "text/plain": [
              "797"
            ]
          },
          "metadata": {},
          "execution_count": 28
        }
      ]
    },
    {
      "cell_type": "code",
      "metadata": {
        "colab": {
          "base_uri": "https://localhost:8080/",
          "height": 421
        },
        "id": "u1WMzF3uWkVD",
        "outputId": "bc2c2110-db77-4271-cacb-af845f8152a2"
      },
      "source": [
        "good_paying_jobs\n",
        "  "
      ],
      "execution_count": 29,
      "outputs": [
        {
          "output_type": "execute_result",
          "data": {
            "text/html": [
              "<div>\n",
              "<style scoped>\n",
              "    .dataframe tbody tr th:only-of-type {\n",
              "        vertical-align: middle;\n",
              "    }\n",
              "\n",
              "    .dataframe tbody tr th {\n",
              "        vertical-align: top;\n",
              "    }\n",
              "\n",
              "    .dataframe thead th {\n",
              "        text-align: right;\n",
              "    }\n",
              "</style>\n",
              "<table border=\"1\" class=\"dataframe\">\n",
              "  <thead>\n",
              "    <tr style=\"text-align: right;\">\n",
              "      <th></th>\n",
              "      <th>JobTitle</th>\n",
              "      <th>AnnualSalary</th>\n",
              "    </tr>\n",
              "  </thead>\n",
              "  <tbody>\n",
              "    <tr>\n",
              "      <th>0</th>\n",
              "      <td>911 LEAD OPERATOR</td>\n",
              "      <td>47886.000000</td>\n",
              "    </tr>\n",
              "    <tr>\n",
              "      <th>1</th>\n",
              "      <td>911 OPERATOR</td>\n",
              "      <td>42835.743590</td>\n",
              "    </tr>\n",
              "    <tr>\n",
              "      <th>2</th>\n",
              "      <td>911 OPERATOR SUPERVISOR</td>\n",
              "      <td>54797.500000</td>\n",
              "    </tr>\n",
              "    <tr>\n",
              "      <th>3</th>\n",
              "      <td>ACCOUNT EXECUTIVE</td>\n",
              "      <td>42960.000000</td>\n",
              "    </tr>\n",
              "    <tr>\n",
              "      <th>4</th>\n",
              "      <td>ACCOUNTANT I</td>\n",
              "      <td>46316.642857</td>\n",
              "    </tr>\n",
              "    <tr>\n",
              "      <th>...</th>\n",
              "      <td>...</td>\n",
              "      <td>...</td>\n",
              "    </tr>\n",
              "    <tr>\n",
              "      <th>1049</th>\n",
              "      <td>ZONING ADMINISTRATOR</td>\n",
              "      <td>82100.000000</td>\n",
              "    </tr>\n",
              "    <tr>\n",
              "      <th>1050</th>\n",
              "      <td>ZONING APPEALS ADVISOR BMZA</td>\n",
              "      <td>59274.000000</td>\n",
              "    </tr>\n",
              "    <tr>\n",
              "      <th>1051</th>\n",
              "      <td>ZONING ENFORCEMENT OFFICER</td>\n",
              "      <td>62000.000000</td>\n",
              "    </tr>\n",
              "    <tr>\n",
              "      <th>1052</th>\n",
              "      <td>ZONING EXAMINER I</td>\n",
              "      <td>43674.000000</td>\n",
              "    </tr>\n",
              "    <tr>\n",
              "      <th>1053</th>\n",
              "      <td>ZONING EXAMINER II</td>\n",
              "      <td>53568.000000</td>\n",
              "    </tr>\n",
              "  </tbody>\n",
              "</table>\n",
              "<p>1054 rows × 2 columns</p>\n",
              "</div>"
            ],
            "text/plain": [
              "                         JobTitle  AnnualSalary\n",
              "0               911 LEAD OPERATOR  47886.000000\n",
              "1                    911 OPERATOR  42835.743590\n",
              "2         911 OPERATOR SUPERVISOR  54797.500000\n",
              "3               ACCOUNT EXECUTIVE  42960.000000\n",
              "4                    ACCOUNTANT I  46316.642857\n",
              "...                           ...           ...\n",
              "1049         ZONING ADMINISTRATOR  82100.000000\n",
              "1050  ZONING APPEALS ADVISOR BMZA  59274.000000\n",
              "1051   ZONING ENFORCEMENT OFFICER  62000.000000\n",
              "1052            ZONING EXAMINER I  43674.000000\n",
              "1053           ZONING EXAMINER II  53568.000000\n",
              "\n",
              "[1054 rows x 2 columns]"
            ]
          },
          "metadata": {},
          "execution_count": 29
        }
      ]
    },
    {
      "cell_type": "code",
      "metadata": {
        "colab": {
          "base_uri": "https://localhost:8080/",
          "height": 487
        },
        "id": "ADstIEPamoGg",
        "outputId": "f556ee25-38e6-4ac9-9bd9-f44db171a2f9"
      },
      "source": [
        "plt.figure(figsize=(10,5))\n",
        "salary_cpy.groupby(['Agency'])['Name'].count().sort_values(ascending=False).head(10).plot.bar()\n",
        "plt.ylabel(\"no of emp\")\n",
        "plt.title(\"top agencies with highest no of employees\")\n",
        "plt.show()"
      ],
      "execution_count": 30,
      "outputs": [
        {
          "output_type": "display_data",
          "data": {
            "image/png": "[encoded data removed]",
            "text/plain": [
              "<Figure size 720x360 with 1 Axes>"
            ]
          },
          "metadata": {
            "needs_background": "light"
          }
        }
      ]
    },
    {
      "cell_type": "code",
      "metadata": {
        "colab": {
          "base_uri": "https://localhost:8080/",
          "height": 381
        },
        "id": "Iergw0K5oAMb",
        "outputId": "3428568e-7ce3-4049-fa99-2349ef7d6ba9"
      },
      "source": [
        "plt.figure(figsize=(10,5))\n",
        "salary_cpy.groupby(['AgencyID'])['Name'].count().sort_values(ascending=False).head(10).plot.bar()\n",
        "plt.ylabel(\"no of emp\")\n",
        "plt.title(\"top agencies with highest no of employees\")\n",
        "plt.show()"
      ],
      "execution_count": 31,
      "outputs": [
        {
          "output_type": "display_data",
          "data": {
            "image/png": "[encoded data removed]",
            "text/plain": [
              "<Figure size 720x360 with 1 Axes>"
            ]
          },
          "metadata": {
            "needs_background": "light"
          }
        }
      ]
    },
    {
      "cell_type": "code",
      "metadata": {
        "colab": {
          "base_uri": "https://localhost:8080/",
          "height": 365
        },
        "id": "PdSs9fpHpiHf",
        "outputId": "a52b8f8e-e272-4377-b9f8-4eeafc80e02e"
      },
      "source": [
        "plt.figure(figsize=(10,5))\n",
        "salary_cpy.groupby(['HireYear'])['AnnualSalary'].mean().sort_values().head(10).plot.bar()\n",
        "plt.ylabel('average salary')\n",
        "plt.title('average salary of employees based on hire year')\n",
        "plt.show()"
      ],
      "execution_count": 32,
      "outputs": [
        {
          "output_type": "display_data",
          "data": {
            "image/png": "[encoded data removed]",
            "text/plain": [
              "<Figure size 720x360 with 1 Axes>"
            ]
          },
          "metadata": {
            "needs_background": "light"
          }
        }
      ]
    },
    {
      "cell_type": "code",
      "metadata": {
        "colab": {
          "base_uri": "https://localhost:8080/",
          "height": 352
        },
        "id": "TpGch8ittFJ-",
        "outputId": "8f13f6fc-7a09-436a-92c8-6681caa31920"
      },
      "source": [
        " plt.figure(figsize=(10,5))\n",
        "salary_cpy.groupby(['HireMonth'])['AnnualSalary'].mean().plot.bar()\n",
        "plt.ylabel('average salary')\n",
        "plt.title('average salary of employees based on hire year')\n",
        "plt.show()"
      ],
      "execution_count": 33,
      "outputs": [
        {
          "output_type": "display_data",
          "data": {
            "image/png": "[encoded data removed]",
            "text/plain": [
              "<Figure size 720x360 with 1 Axes>"
            ]
          },
          "metadata": {
            "needs_background": "light"
          }
        }
      ]
    },
    {
      "cell_type": "code",
      "metadata": {
        "colab": {
          "base_uri": "https://localhost:8080/",
          "height": 352
        },
        "id": "Wc3R1Zda5QpI",
        "outputId": "1fa3cf7b-425f-477c-f9e7-0dc87d5cb207"
      },
      "source": [
        "plt.figure(figsize=(10,5))\n",
        "salary_cpy.groupby(['HireMonth'])['Name'].count().plot.bar()\n",
        "plt.ylabel('average salary')\n",
        "plt.title('average salary of employees based on hire year')\n",
        "plt.show()"
      ],
      "execution_count": 34,
      "outputs": [
        {
          "output_type": "display_data",
          "data": {
            "image/png": "[encoded data removed]",
            "text/plain": [
              "<Figure size 720x360 with 1 Axes>"
            ]
          },
          "metadata": {
            "needs_background": "light"
          }
        }
      ]
    },
    {
      "cell_type": "code",
      "metadata": {
        "id": "baWCU0cqBCcE"
      },
      "source": [
        "salary_master=salary_cpy.copy()"
      ],
      "execution_count": 35,
      "outputs": []
    },
    {
      "cell_type": "code",
      "metadata": {
        "colab": {
          "base_uri": "https://localhost:8080/"
        },
        "id": "naH0SzTUCFth",
        "outputId": "52e504c1-ca2d-4841-896a-c8522d868e74"
      },
      "source": [
        "mean_job= salary_master.groupby(['JobTitle'])['AnnualSalary'].mean()\n",
        "mean_job"
      ],
      "execution_count": 36,
      "outputs": [
        {
          "output_type": "execute_result",
          "data": {
            "text/plain": [
              "JobTitle\n",
              "911 LEAD OPERATOR              47886.000000\n",
              "911 OPERATOR                   42835.743590\n",
              "911 OPERATOR SUPERVISOR        54797.500000\n",
              "ACCOUNT EXECUTIVE              42960.000000\n",
              "ACCOUNTANT I                   46316.642857\n",
              "                                   ...     \n",
              "ZONING ADMINISTRATOR           82100.000000\n",
              "ZONING APPEALS ADVISOR BMZA    59274.000000\n",
              "ZONING ENFORCEMENT OFFICER     62000.000000\n",
              "ZONING EXAMINER I              43674.000000\n",
              "ZONING EXAMINER II             53568.000000\n",
              "Name: AnnualSalary, Length: 1054, dtype: float64"
            ]
          },
          "metadata": {},
          "execution_count": 36
        }
      ]
    },
    {
      "cell_type": "code",
      "metadata": {
        "colab": {
          "base_uri": "https://localhost:8080/"
        },
        "id": "3tMuqzJFCFvo",
        "outputId": "7c222dd7-cb61-41cb-c2f7-f2eb1ac61b3f"
      },
      "source": [
        "salary_master['JobTitle']=salary_master['JobTitle'].map(mean_job)\n",
        "salary_master['JobTitle']"
      ],
      "execution_count": 37,
      "outputs": [
        {
          "output_type": "execute_result",
          "data": {
            "text/plain": [
              "0        11313.967200\n",
              "1        47443.500000\n",
              "2        69750.666667\n",
              "3        57940.000000\n",
              "4        44531.160494\n",
              "             ...     \n",
              "18976    11313.967200\n",
              "18977    11313.967200\n",
              "18978    44531.160494\n",
              "18979    60588.139335\n",
              "18980    53368.428571\n",
              "Name: JobTitle, Length: 18885, dtype: float64"
            ]
          },
          "metadata": {},
          "execution_count": 37
        }
      ]
    },
    {
      "cell_type": "code",
      "metadata": {
        "colab": {
          "base_uri": "https://localhost:8080/"
        },
        "id": "sonrIoUdCFyN",
        "outputId": "14dbe06f-9574-4a9d-d57c-4cb61f1753ae"
      },
      "source": [
        "mean_job= salary_master.groupby(['Agency'])['AnnualSalary'].mean()\n",
        "salary_master['Agency']=salary_master['Agency'].map(mean_job)\n",
        "salary_master['Agency']\n"
      ],
      "execution_count": 38,
      "outputs": [
        {
          "output_type": "execute_result",
          "data": {
            "text/plain": [
              "0        11313.967200\n",
              "1        51495.424242\n",
              "2        64874.560224\n",
              "3        39980.900360\n",
              "4        61481.005417\n",
              "             ...     \n",
              "18976    11313.967200\n",
              "18977    11313.967200\n",
              "18978    61481.005417\n",
              "18979    61481.005417\n",
              "18980    42565.513078\n",
              "Name: Agency, Length: 18885, dtype: float64"
            ]
          },
          "metadata": {},
          "execution_count": 38
        }
      ]
    },
    {
      "cell_type": "code",
      "metadata": {
        "colab": {
          "base_uri": "https://localhost:8080/"
        },
        "id": "WHQ--DlIEJAm",
        "outputId": "7034e34f-9b9b-46a2-a599-e2db50e39485"
      },
      "source": [
        "\n",
        "mean_job= salary_master.groupby(['AgencyID'])['AnnualSalary'].mean()\n",
        "salary_master['AgencyID']=salary_master['AgencyID'].map(mean_job)\n",
        "salary_master['AgencyID']"
      ],
      "execution_count": 39,
      "outputs": [
        {
          "output_type": "execute_result",
          "data": {
            "text/plain": [
              "0        11310.000000\n",
              "1        46667.000000\n",
              "2        65926.133333\n",
              "3        48071.851064\n",
              "4        44012.307229\n",
              "             ...     \n",
              "18976    11310.000000\n",
              "18977    11310.000000\n",
              "18978    44012.307229\n",
              "18979    60203.340426\n",
              "18980    42407.562500\n",
              "Name: AgencyID, Length: 18885, dtype: float64"
            ]
          },
          "metadata": {},
          "execution_count": 39
        }
      ]
    },
    {
      "cell_type": "code",
      "metadata": {
        "colab": {
          "base_uri": "https://localhost:8080/"
        },
        "id": "w3lq5BvxEtvQ",
        "outputId": "8bb2fddf-af21-47b1-8f2f-47ab3d132d7c"
      },
      "source": [
        " salary_master=salary_master.drop(['HireDate','Name'],axis=1)\n",
        " salary_master.info()"
      ],
      "execution_count": 40,
      "outputs": [
        {
          "output_type": "stream",
          "name": "stdout",
          "text": [
            "<class 'pandas.core.frame.DataFrame'>\n",
            "Int64Index: 18885 entries, 0 to 18980\n",
            "Data columns (total 7 columns):\n",
            " #   Column        Non-Null Count  Dtype  \n",
            "---  ------        --------------  -----  \n",
            " 0   JobTitle      18885 non-null  float64\n",
            " 1   AgencyID      18885 non-null  float64\n",
            " 2   Agency        18885 non-null  float64\n",
            " 3   AnnualSalary  18885 non-null  float64\n",
            " 4   HireDay       18885 non-null  int64  \n",
            " 5   HireMonth     18885 non-null  int64  \n",
            " 6   HireYear      18885 non-null  int64  \n",
            "dtypes: float64(4), int64(3)\n",
            "memory usage: 1.2 MB\n"
          ]
        }
      ]
    },
    {
      "cell_type": "code",
      "metadata": {
        "id": "nHxlIHprLPbv"
      },
      "source": [
        " salary_train,salary_test=train_test_split(salary_master,train_size=0.7,random_state=10)"
      ],
      "execution_count": 41,
      "outputs": []
    },
    {
      "cell_type": "code",
      "metadata": {
        "colab": {
          "base_uri": "https://localhost:8080/"
        },
        "id": "T-lomm_QOqY4",
        "outputId": "5999349d-04a5-4988-a867-1cbc4967e3a0"
      },
      "source": [
        "print(salary_train.shape)\n",
        "print(salary_test.shape)"
      ],
      "execution_count": 42,
      "outputs": [
        {
          "output_type": "stream",
          "name": "stdout",
          "text": [
            "(13219, 7)\n",
            "(5666, 7)\n"
          ]
        }
      ]
    },
    {
      "cell_type": "code",
      "metadata": {
        "id": "Gsgm95uBOqg6"
      },
      "source": [
        "y_train=salary_train.pop(\"AnnualSalary\")\n",
        "x_train=salary_train\n",
        "y_test=salary_test.pop(\"AnnualSalary\")\n",
        "x_test=salary_test"
      ],
      "execution_count": 43,
      "outputs": []
    },
    {
      "cell_type": "code",
      "metadata": {
        "colab": {
          "base_uri": "https://localhost:8080/",
          "height": 421
        },
        "id": "3pThHVCySUkD",
        "outputId": "52a7afed-776e-460e-a80d-daeced978243"
      },
      "source": [
        "x_train"
      ],
      "execution_count": 44,
      "outputs": [
        {
          "output_type": "execute_result",
          "data": {
            "text/html": [
              "<div>\n",
              "<style scoped>\n",
              "    .dataframe tbody tr th:only-of-type {\n",
              "        vertical-align: middle;\n",
              "    }\n",
              "\n",
              "    .dataframe tbody tr th {\n",
              "        vertical-align: top;\n",
              "    }\n",
              "\n",
              "    .dataframe thead th {\n",
              "        text-align: right;\n",
              "    }\n",
              "</style>\n",
              "<table border=\"1\" class=\"dataframe\">\n",
              "  <thead>\n",
              "    <tr style=\"text-align: right;\">\n",
              "      <th></th>\n",
              "      <th>JobTitle</th>\n",
              "      <th>AgencyID</th>\n",
              "      <th>Agency</th>\n",
              "      <th>HireDay</th>\n",
              "      <th>HireMonth</th>\n",
              "      <th>HireYear</th>\n",
              "    </tr>\n",
              "  </thead>\n",
              "  <tbody>\n",
              "    <tr>\n",
              "      <th>2110</th>\n",
              "      <td>21570.423841</td>\n",
              "      <td>21474.446429</td>\n",
              "      <td>31494.602740</td>\n",
              "      <td>26</td>\n",
              "      <td>3</td>\n",
              "      <td>2007</td>\n",
              "    </tr>\n",
              "    <tr>\n",
              "      <th>7529</th>\n",
              "      <td>11313.967200</td>\n",
              "      <td>11310.000000</td>\n",
              "      <td>11313.967200</td>\n",
              "      <td>16</td>\n",
              "      <td>6</td>\n",
              "      <td>2014</td>\n",
              "    </tr>\n",
              "    <tr>\n",
              "      <th>15366</th>\n",
              "      <td>11313.967200</td>\n",
              "      <td>11310.000000</td>\n",
              "      <td>11313.967200</td>\n",
              "      <td>10</td>\n",
              "      <td>6</td>\n",
              "      <td>2013</td>\n",
              "    </tr>\n",
              "    <tr>\n",
              "      <th>3237</th>\n",
              "      <td>11313.967200</td>\n",
              "      <td>11310.000000</td>\n",
              "      <td>11313.967200</td>\n",
              "      <td>11</td>\n",
              "      <td>6</td>\n",
              "      <td>2009</td>\n",
              "    </tr>\n",
              "    <tr>\n",
              "      <th>16659</th>\n",
              "      <td>11313.967200</td>\n",
              "      <td>11310.000000</td>\n",
              "      <td>11313.967200</td>\n",
              "      <td>19</td>\n",
              "      <td>6</td>\n",
              "      <td>2014</td>\n",
              "    </tr>\n",
              "    <tr>\n",
              "      <th>...</th>\n",
              "      <td>...</td>\n",
              "      <td>...</td>\n",
              "      <td>...</td>\n",
              "      <td>...</td>\n",
              "      <td>...</td>\n",
              "      <td>...</td>\n",
              "    </tr>\n",
              "    <tr>\n",
              "      <th>9453</th>\n",
              "      <td>11313.967200</td>\n",
              "      <td>11310.000000</td>\n",
              "      <td>11313.967200</td>\n",
              "      <td>21</td>\n",
              "      <td>5</td>\n",
              "      <td>2014</td>\n",
              "    </tr>\n",
              "    <tr>\n",
              "      <th>7371</th>\n",
              "      <td>29925.666667</td>\n",
              "      <td>33754.400000</td>\n",
              "      <td>31594.490526</td>\n",
              "      <td>4</td>\n",
              "      <td>3</td>\n",
              "      <td>2002</td>\n",
              "    </tr>\n",
              "    <tr>\n",
              "      <th>17822</th>\n",
              "      <td>34098.128205</td>\n",
              "      <td>38263.434783</td>\n",
              "      <td>31494.602740</td>\n",
              "      <td>27</td>\n",
              "      <td>5</td>\n",
              "      <td>1999</td>\n",
              "    </tr>\n",
              "    <tr>\n",
              "      <th>7373</th>\n",
              "      <td>42275.081081</td>\n",
              "      <td>62661.900000</td>\n",
              "      <td>62661.900000</td>\n",
              "      <td>6</td>\n",
              "      <td>10</td>\n",
              "      <td>1969</td>\n",
              "    </tr>\n",
              "    <tr>\n",
              "      <th>17767</th>\n",
              "      <td>35758.400000</td>\n",
              "      <td>46143.333333</td>\n",
              "      <td>39980.900360</td>\n",
              "      <td>17</td>\n",
              "      <td>6</td>\n",
              "      <td>2004</td>\n",
              "    </tr>\n",
              "  </tbody>\n",
              "</table>\n",
              "<p>13219 rows × 6 columns</p>\n",
              "</div>"
            ],
            "text/plain": [
              "           JobTitle      AgencyID        Agency  HireDay  HireMonth  HireYear\n",
              "2110   21570.423841  21474.446429  31494.602740       26          3      2007\n",
              "7529   11313.967200  11310.000000  11313.967200       16          6      2014\n",
              "15366  11313.967200  11310.000000  11313.967200       10          6      2013\n",
              "3237   11313.967200  11310.000000  11313.967200       11          6      2009\n",
              "16659  11313.967200  11310.000000  11313.967200       19          6      2014\n",
              "...             ...           ...           ...      ...        ...       ...\n",
              "9453   11313.967200  11310.000000  11313.967200       21          5      2014\n",
              "7371   29925.666667  33754.400000  31594.490526        4          3      2002\n",
              "17822  34098.128205  38263.434783  31494.602740       27          5      1999\n",
              "7373   42275.081081  62661.900000  62661.900000        6         10      1969\n",
              "17767  35758.400000  46143.333333  39980.900360       17          6      2004\n",
              "\n",
              "[13219 rows x 6 columns]"
            ]
          },
          "metadata": {},
          "execution_count": 44
        }
      ]
    },
    {
      "cell_type": "code",
      "metadata": {
        "colab": {
          "base_uri": "https://localhost:8080/",
          "height": 524
        },
        "id": "nUpSXvYGSW6R",
        "outputId": "ff5ebe0f-ea9b-49d3-ad57-190d76dff798"
      },
      "source": [
        " scaler=StandardScaler()\n",
        " x_train[x_train.columns]=scaler.fit_transform(x_train[x_train.columns])\n",
        " x_train.describe()"
      ],
      "execution_count": 45,
      "outputs": [
        {
          "output_type": "stream",
          "name": "stderr",
          "text": [
            "/usr/local/lib/python3.7/dist-packages/ipykernel_launcher.py:2: SettingWithCopyWarning: \n",
            "A value is trying to be set on a copy of a slice from a DataFrame.\n",
            "Try using .loc[row_indexer,col_indexer] = value instead\n",
            "\n",
            "See the caveats in the documentation: https://pandas.pydata.org/pandas-docs/stable/user_guide/indexing.html#returning-a-view-versus-a-copy\n",
            "  \n",
            "/usr/local/lib/python3.7/dist-packages/pandas/core/indexing.py:1734: SettingWithCopyWarning: \n",
            "A value is trying to be set on a copy of a slice from a DataFrame.\n",
            "Try using .loc[row_indexer,col_indexer] = value instead\n",
            "\n",
            "See the caveats in the documentation: https://pandas.pydata.org/pandas-docs/stable/user_guide/indexing.html#returning-a-view-versus-a-copy\n",
            "  isetter(loc, value[:, i].tolist())\n"
          ]
        },
        {
          "output_type": "execute_result",
          "data": {
            "text/html": [
              "<div>\n",
              "<style scoped>\n",
              "    .dataframe tbody tr th:only-of-type {\n",
              "        vertical-align: middle;\n",
              "    }\n",
              "\n",
              "    .dataframe tbody tr th {\n",
              "        vertical-align: top;\n",
              "    }\n",
              "\n",
              "    .dataframe thead th {\n",
              "        text-align: right;\n",
              "    }\n",
              "</style>\n",
              "<table border=\"1\" class=\"dataframe\">\n",
              "  <thead>\n",
              "    <tr style=\"text-align: right;\">\n",
              "      <th></th>\n",
              "      <th>JobTitle</th>\n",
              "      <th>AgencyID</th>\n",
              "      <th>Agency</th>\n",
              "      <th>HireDay</th>\n",
              "      <th>HireMonth</th>\n",
              "      <th>HireYear</th>\n",
              "    </tr>\n",
              "  </thead>\n",
              "  <tbody>\n",
              "    <tr>\n",
              "      <th>count</th>\n",
              "      <td>1.321900e+04</td>\n",
              "      <td>1.321900e+04</td>\n",
              "      <td>1.321900e+04</td>\n",
              "      <td>1.321900e+04</td>\n",
              "      <td>1.321900e+04</td>\n",
              "      <td>1.321900e+04</td>\n",
              "    </tr>\n",
              "    <tr>\n",
              "      <th>mean</th>\n",
              "      <td>1.054960e-16</td>\n",
              "      <td>8.526730e-16</td>\n",
              "      <td>2.849421e-16</td>\n",
              "      <td>1.531228e-16</td>\n",
              "      <td>-8.850541e-17</td>\n",
              "      <td>-7.982991e-15</td>\n",
              "    </tr>\n",
              "    <tr>\n",
              "      <th>std</th>\n",
              "      <td>1.000038e+00</td>\n",
              "      <td>1.000038e+00</td>\n",
              "      <td>1.000038e+00</td>\n",
              "      <td>1.000038e+00</td>\n",
              "      <td>1.000038e+00</td>\n",
              "      <td>1.000038e+00</td>\n",
              "    </tr>\n",
              "    <tr>\n",
              "      <th>min</th>\n",
              "      <td>-1.546632e+00</td>\n",
              "      <td>-1.691969e+00</td>\n",
              "      <td>-1.397343e+00</td>\n",
              "      <td>-1.763380e+00</td>\n",
              "      <td>-1.822288e+00</td>\n",
              "      <td>-4.138882e+00</td>\n",
              "    </tr>\n",
              "    <tr>\n",
              "      <th>25%</th>\n",
              "      <td>-1.162446e+00</td>\n",
              "      <td>-1.272054e+00</td>\n",
              "      <td>-1.345816e+00</td>\n",
              "      <td>-8.086782e-01</td>\n",
              "      <td>-4.642147e-01</td>\n",
              "      <td>-5.827611e-01</td>\n",
              "    </tr>\n",
              "    <tr>\n",
              "      <th>50%</th>\n",
              "      <td>-1.457188e-01</td>\n",
              "      <td>9.319493e-02</td>\n",
              "      <td>1.459947e-01</td>\n",
              "      <td>2.668601e-02</td>\n",
              "      <td>-1.246964e-01</td>\n",
              "      <td>2.822413e-01</td>\n",
              "    </tr>\n",
              "    <tr>\n",
              "      <th>75%</th>\n",
              "      <td>8.700324e-01</td>\n",
              "      <td>9.033706e-01</td>\n",
              "      <td>1.048937e+00</td>\n",
              "      <td>7.427125e-01</td>\n",
              "      <td>8.938587e-01</td>\n",
              "      <td>8.589095e-01</td>\n",
              "    </tr>\n",
              "    <tr>\n",
              "      <th>max</th>\n",
              "      <td>3.889902e+00</td>\n",
              "      <td>2.886953e+00</td>\n",
              "      <td>1.959063e+00</td>\n",
              "      <td>1.816752e+00</td>\n",
              "      <td>1.912414e+00</td>\n",
              "      <td>9.550209e-01</td>\n",
              "    </tr>\n",
              "  </tbody>\n",
              "</table>\n",
              "</div>"
            ],
            "text/plain": [
              "           JobTitle      AgencyID  ...     HireMonth      HireYear\n",
              "count  1.321900e+04  1.321900e+04  ...  1.321900e+04  1.321900e+04\n",
              "mean   1.054960e-16  8.526730e-16  ... -8.850541e-17 -7.982991e-15\n",
              "std    1.000038e+00  1.000038e+00  ...  1.000038e+00  1.000038e+00\n",
              "min   -1.546632e+00 -1.691969e+00  ... -1.822288e+00 -4.138882e+00\n",
              "25%   -1.162446e+00 -1.272054e+00  ... -4.642147e-01 -5.827611e-01\n",
              "50%   -1.457188e-01  9.319493e-02  ... -1.246964e-01  2.822413e-01\n",
              "75%    8.700324e-01  9.033706e-01  ...  8.938587e-01  8.589095e-01\n",
              "max    3.889902e+00  2.886953e+00  ...  1.912414e+00  9.550209e-01\n",
              "\n",
              "[8 rows x 6 columns]"
            ]
          },
          "metadata": {},
          "execution_count": 45
        }
      ]
    },
    {
      "cell_type": "code",
      "metadata": {
        "colab": {
          "base_uri": "https://localhost:8080/"
        },
        "id": "LP4hoOLMaQq4",
        "outputId": "5297e599-0cac-4fcb-8138-852575a9da15"
      },
      "source": [
        "x_test[x_test.columns]=scaler.transform(x_test[x_test.columns])\n"
      ],
      "execution_count": 46,
      "outputs": [
        {
          "output_type": "stream",
          "name": "stderr",
          "text": [
            "/usr/local/lib/python3.7/dist-packages/ipykernel_launcher.py:1: SettingWithCopyWarning: \n",
            "A value is trying to be set on a copy of a slice from a DataFrame.\n",
            "Try using .loc[row_indexer,col_indexer] = value instead\n",
            "\n",
            "See the caveats in the documentation: https://pandas.pydata.org/pandas-docs/stable/user_guide/indexing.html#returning-a-view-versus-a-copy\n",
            "  \"\"\"Entry point for launching an IPython kernel.\n",
            "/usr/local/lib/python3.7/dist-packages/pandas/core/indexing.py:1734: SettingWithCopyWarning: \n",
            "A value is trying to be set on a copy of a slice from a DataFrame.\n",
            "Try using .loc[row_indexer,col_indexer] = value instead\n",
            "\n",
            "See the caveats in the documentation: https://pandas.pydata.org/pandas-docs/stable/user_guide/indexing.html#returning-a-view-versus-a-copy\n",
            "  isetter(loc, value[:, i].tolist())\n"
          ]
        }
      ]
    },
    {
      "cell_type": "code",
      "metadata": {
        "id": "qQ0IjKD4bPjr"
      },
      "source": [
        " lr=LinearRegression()\n",
        " salary_reg=lr.fit(x_train,y_train)"
      ],
      "execution_count": 47,
      "outputs": []
    },
    {
      "cell_type": "code",
      "metadata": {
        "colab": {
          "base_uri": "https://localhost:8080/"
        },
        "id": "hPQk3L3rd67A",
        "outputId": "1bd3c32e-0a6d-46ac-c0b6-42bf5f6223a8"
      },
      "source": [
        "salary_reg.score(x_train,y_train)"
      ],
      "execution_count": 48,
      "outputs": [
        {
          "output_type": "execute_result",
          "data": {
            "text/plain": [
              "0.9652498067695455"
            ]
          },
          "metadata": {},
          "execution_count": 48
        }
      ]
    },
    {
      "cell_type": "code",
      "metadata": {
        "colab": {
          "base_uri": "https://localhost:8080/"
        },
        "id": "mxpMHtFYeHyX",
        "outputId": "6ac92e05-a47c-4462-887b-96c927f750b4"
      },
      "source": [
        "salary_reg.score(x_test,y_test)"
      ],
      "execution_count": 49,
      "outputs": [
        {
          "output_type": "execute_result",
          "data": {
            "text/plain": [
              "0.9647165830506235"
            ]
          },
          "metadata": {},
          "execution_count": 49
        }
      ]
    },
    {
      "cell_type": "code",
      "metadata": {
        "colab": {
          "base_uri": "https://localhost:8080/"
        },
        "id": "nH4pic3xfWmR",
        "outputId": "a3c38f6e-7362-43bc-b170-afa936cabf74"
      },
      "source": [
        "print(salary_reg.coef_)\n",
        "print(salary_reg.intercept_)"
      ],
      "execution_count": 50,
      "outputs": [
        {
          "output_type": "stream",
          "name": "stdout",
          "text": [
            "[22107.57351879  2772.01552827 -1638.49731197   -78.87693955\n",
            "  -103.80442772 -2104.19216623]\n",
            "39505.76539904681\n"
          ]
        }
      ]
    },
    {
      "cell_type": "code",
      "metadata": {
        "colab": {
          "base_uri": "https://localhost:8080/"
        },
        "id": "LcX9J7F4ftV_",
        "outputId": "4961bf7b-9d02-44e6-b573-d994d338353a"
      },
      "source": [
        "y_pred=salary_reg.predict(x_test)\n",
        "y_pred"
      ],
      "execution_count": 51,
      "outputs": [
        {
          "output_type": "execute_result",
          "data": {
            "text/plain": [
              "array([58719.19937463, 10475.32610913, 10576.42843556, ...,\n",
              "       57516.60452052, 65294.01185641, 11178.57496343])"
            ]
          },
          "metadata": {},
          "execution_count": 51
        }
      ]
    },
    {
      "cell_type": "code",
      "metadata": {
        "colab": {
          "base_uri": "https://localhost:8080/"
        },
        "id": "T9lMvHH5f7UK",
        "outputId": "019ee64f-8494-4a07-c42b-6511a245724e"
      },
      "source": [
        "y_test"
      ],
      "execution_count": 52,
      "outputs": [
        {
          "output_type": "execute_result",
          "data": {
            "text/plain": [
              "9797     59409.0\n",
              "4541     11310.0\n",
              "2860     11310.0\n",
              "8139     66231.0\n",
              "2876     40303.0\n",
              "          ...   \n",
              "11213    40954.0\n",
              "3366     69900.0\n",
              "11606    57900.0\n",
              "14382    65480.0\n",
              "394      11310.0\n",
              "Name: AnnualSalary, Length: 5666, dtype: float64"
            ]
          },
          "metadata": {},
          "execution_count": 52
        }
      ]
    }
  ]
}